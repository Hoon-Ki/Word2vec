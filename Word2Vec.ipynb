{
 "cells": [
  {
   "cell_type": "code",
   "execution_count": 9,
   "metadata": {
    "collapsed": false,
    "scrolled": true
   },
   "outputs": [
    {
     "name": "stdout",
     "output_type": "stream",
     "text": [
      "8\n"
     ]
    }
   ],
   "source": [
    "# 라이브러리 import\n",
    "import gensim\n",
    "import multiprocessing\n",
    "import threading\n",
    "import pandas as pd\n",
    "\n",
    "# CPU 수를 print\n",
    "print(multiprocessing.cpu_count())"
   ]
  },
  {
   "cell_type": "code",
   "execution_count": 10,
   "metadata": {
    "collapsed": false,
    "scrolled": true
   },
   "outputs": [
    {
     "name": "stdout",
     "output_type": "stream",
     "text": [
      "Read 25000 labeled train reviews, 25000 labeled test reviews, \n",
      "and 50000 unlabeled reviews\n"
     ]
    }
   ],
   "source": [
    "# 데이터 로드\n",
    "train = pd.read_csv( \"data/labeledTrainData.tsv\", header=0, delimiter=\"\\t\", quoting=3 )\n",
    "test = pd.read_csv( \"data/testData.tsv\", header=0, delimiter=\"\\t\", quoting=3 )\n",
    "unlabeled_train = pd.read_csv( \"data/unlabeledTrainData.tsv\", header=0, delimiter=\"\\t\", quoting=3 )\n",
    "\n",
    "# 데이터 행개수 확인 (총 100,000 개)\n",
    "print ((\"Read {0} labeled train reviews, {1} labeled test reviews, \"+ '\\n' +\"and {2} unlabeled reviews\").format(train[\"review\"].size, test[\"review\"].size, unlabeled_train[\"review\"].size))"
   ]
  },
  {
   "cell_type": "code",
   "execution_count": 8,
   "metadata": {
    "collapsed": false
   },
   "outputs": [
    {
     "data": {
      "text/html": [
       "<div>\n",
       "<style>\n",
       "    .dataframe thead tr:only-child th {\n",
       "        text-align: right;\n",
       "    }\n",
       "\n",
       "    .dataframe thead th {\n",
       "        text-align: left;\n",
       "    }\n",
       "\n",
       "    .dataframe tbody tr th {\n",
       "        vertical-align: top;\n",
       "    }\n",
       "</style>\n",
       "<table border=\"1\" class=\"dataframe\">\n",
       "  <thead>\n",
       "    <tr style=\"text-align: right;\">\n",
       "      <th></th>\n",
       "      <th>id</th>\n",
       "      <th>sentiment</th>\n",
       "      <th>review</th>\n",
       "    </tr>\n",
       "  </thead>\n",
       "  <tbody>\n",
       "    <tr>\n",
       "      <th>0</th>\n",
       "      <td>\"5814_8\"</td>\n",
       "      <td>1</td>\n",
       "      <td>\"With all this stuff going down at the moment ...</td>\n",
       "    </tr>\n",
       "    <tr>\n",
       "      <th>1</th>\n",
       "      <td>\"2381_9\"</td>\n",
       "      <td>1</td>\n",
       "      <td>\"\\\"The Classic War of the Worlds\\\" by Timothy ...</td>\n",
       "    </tr>\n",
       "    <tr>\n",
       "      <th>2</th>\n",
       "      <td>\"7759_3\"</td>\n",
       "      <td>0</td>\n",
       "      <td>\"The film starts with a manager (Nicholas Bell...</td>\n",
       "    </tr>\n",
       "    <tr>\n",
       "      <th>3</th>\n",
       "      <td>\"3630_4\"</td>\n",
       "      <td>0</td>\n",
       "      <td>\"It must be assumed that those who praised thi...</td>\n",
       "    </tr>\n",
       "    <tr>\n",
       "      <th>4</th>\n",
       "      <td>\"9495_8\"</td>\n",
       "      <td>1</td>\n",
       "      <td>\"Superbly trashy and wondrously unpretentious ...</td>\n",
       "    </tr>\n",
       "  </tbody>\n",
       "</table>\n",
       "</div>"
      ],
      "text/plain": [
       "         id  sentiment                                             review\n",
       "0  \"5814_8\"          1  \"With all this stuff going down at the moment ...\n",
       "1  \"2381_9\"          1  \"\\\"The Classic War of the Worlds\\\" by Timothy ...\n",
       "2  \"7759_3\"          0  \"The film starts with a manager (Nicholas Bell...\n",
       "3  \"3630_4\"          0  \"It must be assumed that those who praised thi...\n",
       "4  \"9495_8\"          1  \"Superbly trashy and wondrously unpretentious ..."
      ]
     },
     "execution_count": 8,
     "metadata": {},
     "output_type": "execute_result"
    }
   ],
   "source": [
    "# head로 확인\n",
    "train.head()"
   ]
  },
  {
   "cell_type": "code",
   "execution_count": 12,
   "metadata": {
    "collapsed": false
   },
   "outputs": [
    {
     "data": {
      "text/html": [
       "<div>\n",
       "<style>\n",
       "    .dataframe thead tr:only-child th {\n",
       "        text-align: right;\n",
       "    }\n",
       "\n",
       "    .dataframe thead th {\n",
       "        text-align: left;\n",
       "    }\n",
       "\n",
       "    .dataframe tbody tr th {\n",
       "        vertical-align: top;\n",
       "    }\n",
       "</style>\n",
       "<table border=\"1\" class=\"dataframe\">\n",
       "  <thead>\n",
       "    <tr style=\"text-align: right;\">\n",
       "      <th></th>\n",
       "      <th>id</th>\n",
       "      <th>review</th>\n",
       "    </tr>\n",
       "  </thead>\n",
       "  <tbody>\n",
       "    <tr>\n",
       "      <th>0</th>\n",
       "      <td>\"12311_10\"</td>\n",
       "      <td>\"Naturally in a film who's main themes are of ...</td>\n",
       "    </tr>\n",
       "    <tr>\n",
       "      <th>1</th>\n",
       "      <td>\"8348_2\"</td>\n",
       "      <td>\"This movie is a disaster within a disaster fi...</td>\n",
       "    </tr>\n",
       "    <tr>\n",
       "      <th>2</th>\n",
       "      <td>\"5828_4\"</td>\n",
       "      <td>\"All in all, this is a movie for kids. We saw ...</td>\n",
       "    </tr>\n",
       "    <tr>\n",
       "      <th>3</th>\n",
       "      <td>\"7186_2\"</td>\n",
       "      <td>\"Afraid of the Dark left me with the impressio...</td>\n",
       "    </tr>\n",
       "    <tr>\n",
       "      <th>4</th>\n",
       "      <td>\"12128_7\"</td>\n",
       "      <td>\"A very accurate depiction of small time mob l...</td>\n",
       "    </tr>\n",
       "  </tbody>\n",
       "</table>\n",
       "</div>"
      ],
      "text/plain": [
       "           id                                             review\n",
       "0  \"12311_10\"  \"Naturally in a film who's main themes are of ...\n",
       "1    \"8348_2\"  \"This movie is a disaster within a disaster fi...\n",
       "2    \"5828_4\"  \"All in all, this is a movie for kids. We saw ...\n",
       "3    \"7186_2\"  \"Afraid of the Dark left me with the impressio...\n",
       "4   \"12128_7\"  \"A very accurate depiction of small time mob l..."
      ]
     },
     "execution_count": 12,
     "metadata": {},
     "output_type": "execute_result"
    }
   ],
   "source": [
    "# head로 확인\n",
    "test.head()"
   ]
  },
  {
   "cell_type": "code",
   "execution_count": 23,
   "metadata": {
    "collapsed": false
   },
   "outputs": [
    {
     "data": {
      "text/html": [
       "<div>\n",
       "<style>\n",
       "    .dataframe thead tr:only-child th {\n",
       "        text-align: right;\n",
       "    }\n",
       "\n",
       "    .dataframe thead th {\n",
       "        text-align: left;\n",
       "    }\n",
       "\n",
       "    .dataframe tbody tr th {\n",
       "        vertical-align: top;\n",
       "    }\n",
       "</style>\n",
       "<table border=\"1\" class=\"dataframe\">\n",
       "  <thead>\n",
       "    <tr style=\"text-align: right;\">\n",
       "      <th></th>\n",
       "      <th>id</th>\n",
       "      <th>review</th>\n",
       "    </tr>\n",
       "  </thead>\n",
       "  <tbody>\n",
       "    <tr>\n",
       "      <th>0</th>\n",
       "      <td>\"9999_0\"</td>\n",
       "      <td>\"Watching Time Chasers, it obvious that it was...</td>\n",
       "    </tr>\n",
       "    <tr>\n",
       "      <th>1</th>\n",
       "      <td>\"45057_0\"</td>\n",
       "      <td>\"I saw this film about 20 years ago and rememb...</td>\n",
       "    </tr>\n",
       "    <tr>\n",
       "      <th>2</th>\n",
       "      <td>\"15561_0\"</td>\n",
       "      <td>\"Minor Spoilers&lt;br /&gt;&lt;br /&gt;In New York, Joan B...</td>\n",
       "    </tr>\n",
       "    <tr>\n",
       "      <th>3</th>\n",
       "      <td>\"7161_0\"</td>\n",
       "      <td>\"I went to see this film with a great deal of ...</td>\n",
       "    </tr>\n",
       "    <tr>\n",
       "      <th>4</th>\n",
       "      <td>\"43971_0\"</td>\n",
       "      <td>\"Yes, I agree with everyone on this site this ...</td>\n",
       "    </tr>\n",
       "  </tbody>\n",
       "</table>\n",
       "</div>"
      ],
      "text/plain": [
       "          id                                             review\n",
       "0   \"9999_0\"  \"Watching Time Chasers, it obvious that it was...\n",
       "1  \"45057_0\"  \"I saw this film about 20 years ago and rememb...\n",
       "2  \"15561_0\"  \"Minor Spoilers<br /><br />In New York, Joan B...\n",
       "3   \"7161_0\"  \"I went to see this film with a great deal of ...\n",
       "4  \"43971_0\"  \"Yes, I agree with everyone on this site this ..."
      ]
     },
     "execution_count": 23,
     "metadata": {},
     "output_type": "execute_result"
    }
   ],
   "source": [
    "unlabeled_train.head()"
   ]
  },
  {
   "cell_type": "code",
   "execution_count": 11,
   "metadata": {
    "collapsed": false
   },
   "outputs": [
    {
     "data": {
      "text/plain": [
       "'\"With all this stuff going down at the moment with MJ i\\'ve started listening to his music, watching the odd documentary here and there, watched The Wiz and watched Moonwalker again. Maybe i just want to get a certain insight into this guy who i thought was really cool in the eighties just to maybe make up my mind whether he is guilty or innocent. Moonwalker is part biography, part feature film which i remember going to see at the cinema when it was originally released. Some of it has subtle messages about MJ\\'s feeling towards the press and also the obvious message of drugs are bad m\\'kay.<br /><br />Visually impressive but of course this is all about Michael Jackson so unless you remotely like MJ in anyway then you are going to hate this and find it boring. Some may call MJ an egotist for consenting to the making of this movie BUT MJ and most of his fans would say that he made it for the fans which if true is really nice of him.<br /><br />The actual feature film bit when it finally starts is only on for 20 minutes or so excluding the Smooth Criminal sequence and Joe Pesci is convincing as a psychopathic all powerful drug lord. Why he wants MJ dead so bad is beyond me. Because MJ overheard his plans? Nah, Joe Pesci\\'s character ranted that he wanted people to know it is he who is supplying drugs etc so i dunno, maybe he just hates MJ\\'s music.<br /><br />Lots of cool things in this like MJ turning into a car and a robot and the whole Speed Demon sequence. Also, the director must have had the patience of a saint when it came to filming the kiddy Bad sequence as usually directors hate working with one kid let alone a whole bunch of them performing a complex dance scene.<br /><br />Bottom line, this movie is for people who like MJ on one level or another (which i think is most people). If not, then stay away. It does try and give off a wholesome message and ironically MJ\\'s bestest buddy in this movie is a girl! Michael Jackson is truly one of the most talented people ever to grace this planet but is he guilty? Well, with all the attention i\\'ve gave this subject....hmmm well i don\\'t know because people can be different behind closed doors, i know this for a fact. He is either an extremely nice but stupid guy or one of the most sickest liars. I hope he is not the latter.\"'"
      ]
     },
     "execution_count": 11,
     "metadata": {},
     "output_type": "execute_result"
    }
   ],
   "source": [
    "# 리뷰 형식 확인\n",
    "train[\"review\"][0]"
   ]
  },
  {
   "cell_type": "code",
   "execution_count": 17,
   "metadata": {
    "collapsed": false
   },
   "outputs": [],
   "source": [
    "# 문자열 전처리를 위한 라이브러리 import\n",
    "from bs4 import BeautifulSoup\n",
    "import re\n",
    "from nltk.corpus import stopwords\n",
    "\n",
    "def review_to_wordlist( review, remove_stopwords=False ):\n",
    "    # document를 list화\n",
    "    # 불용어를 없애는 것은 선택, 보통 높은 질의 워드벡터를 얻기 위해 불용어를 제거하지는 않음.\n",
    "    \n",
    "    # HTML 함수 지우기\n",
    "    review_text = BeautifulSoup(review).get_text()\n",
    "      \n",
    "    # 글자가 아닌것들 없애기 []안의 ^는 not과 같음.\n",
    "    review_text = re.sub(\"[^a-zA-Z]\",\" \", review_text)\n",
    "    \n",
    "    # 소문자화 후 띄어쓰기를 기준으로 모두 나눔.\n",
    "    words = review_text.lower().split()\n",
    "    \n",
    "    # 불용어 제거\n",
    "    if remove_stopwords:\n",
    "        stops = set(stopwords.words(\"english\"))\n",
    "        words = [w for w in words if not w in stops]\n",
    "    \n",
    "    # 단어 리스트 반환\n",
    "    return(words)"
   ]
  },
  {
   "cell_type": "code",
   "execution_count": 13,
   "metadata": {
    "collapsed": false
   },
   "outputs": [
    {
     "name": "stdout",
     "output_type": "stream",
     "text": [
      "showing info https://raw.githubusercontent.com/nltk/nltk_data/gh-pages/index.xml\n"
     ]
    }
   ],
   "source": [
    "# document를 문장 단위로 나누기위해 nltk 데이터 중 punkt 다운로드\n",
    "import nltk.data\n",
    "nltk.download()   # 데이터 다운로드\n",
    "\n",
    "# punkt tokenizer (문장별로 나누는 토큰)\n",
    "tokenizer = nltk.data.load('tokenizers/punkt/english.pickle')\n",
    "\n",
    "# document를 문장으로 나누는 함수\n",
    "def review_to_sentences( review, tokenizer, remove_stopwords=False ):\n",
    "    # 일단 문장별로 리스트가 만들어지고, 각 문장리스트 안에 단어로 구성된 리스트로 반환\n",
    "    \n",
    "    # punkt tokenizer를 통해 document를 문장으로 나눔\n",
    "    raw_sentences = tokenizer.tokenize(review.strip())\n",
    "    \n",
    "    # 각 문장에 대해 for문을 돌림\n",
    "    sentences = []\n",
    "    for raw_sentence in raw_sentences:\n",
    "        # 만약 문장리스트안에 단어가 없다면 스킵\n",
    "        if len(raw_sentence) > 0:\n",
    "            # 문장리스트 안에 단어가 있다면 사전정의한 review_to_wordlist를 통해 단어별로 분절\n",
    "            sentences.append( review_to_wordlist( raw_sentence, \\\n",
    "              remove_stopwords ))\n",
    "    \n",
    "    # 문장리스트반환 (리스트 안 리스트 형식)\n",
    "    return sentences"
   ]
  },
  {
   "cell_type": "code",
   "execution_count": 21,
   "metadata": {
    "collapsed": false
   },
   "outputs": [
    {
     "data": {
      "text/plain": [
       "[['a'], ['a'], ['b'], ['b']]"
      ]
     },
     "execution_count": 21,
     "metadata": {},
     "output_type": "execute_result"
    }
   ],
   "source": [
    "[['a'],['a']]+ [['b'],['b']]"
   ]
  },
  {
   "cell_type": "code",
   "execution_count": 18,
   "metadata": {
    "collapsed": false,
    "scrolled": true
   },
   "outputs": [
    {
     "name": "stdout",
     "output_type": "stream",
     "text": [
      "Parsing sentences from training set\n"
     ]
    },
    {
     "name": "stderr",
     "output_type": "stream",
     "text": [
      "D:\\python\\lib\\site-packages\\bs4\\__init__.py:181: UserWarning: No parser was explicitly specified, so I'm using the best available HTML parser for this system (\"lxml\"). This usually isn't a problem, but if you run this code on another system, or in a different virtual environment, it may use a different parser and behave differently.\n",
      "\n",
      "The code that caused this warning is on line 170 of the file D:\\python\\lib\\runpy.py. To get rid of this warning, change code that looks like this:\n",
      "\n",
      " BeautifulSoup([your markup])\n",
      "\n",
      "to this:\n",
      "\n",
      " BeautifulSoup([your markup], \"lxml\")\n",
      "\n",
      "  markup_type=markup_type))\n",
      "D:\\python\\lib\\site-packages\\bs4\\__init__.py:219: UserWarning: \"b'.'\" looks like a filename, not markup. You shouldprobably open this file and pass the filehandle intoBeautiful Soup.\n",
      "  'Beautiful Soup.' % markup)\n",
      "D:\\python\\lib\\site-packages\\bs4\\__init__.py:219: UserWarning: \"b'...'\" looks like a filename, not markup. You shouldprobably open this file and pass the filehandle intoBeautiful Soup.\n",
      "  'Beautiful Soup.' % markup)\n",
      "D:\\python\\lib\\site-packages\\bs4\\__init__.py:282: UserWarning: \"http://www.happierabroad.com\"\" looks like a URL. Beautiful Soup is not an HTTP client. You should probably use an HTTP client like requests to get the document behind the URL, and feed that document to Beautiful Soup.\n",
      "  ' that document to Beautiful Soup.' % decoded_markup\n"
     ]
    }
   ],
   "source": [
    "sentences = []  # 문장을 넣을 빈 리스트 생성\n",
    "\n",
    "print (\"Parsing sentences from training set\")\n",
    "\n",
    "# 하나의 리뷰(document)마다 문장리스트를 review_to setence로 만듬\n",
    "# for문으로 각 리뷰를 한번 돌때마다 생성된 문장리스트가 sentences 리스트 뒤에 붙음.\n",
    "for review in train[\"review\"]:\n",
    "    sentences += review_to_sentences(review, tokenizer)"
   ]
  },
  {
   "cell_type": "code",
   "execution_count": 22,
   "metadata": {
    "collapsed": false
   },
   "outputs": [
    {
     "data": {
      "text/plain": [
       "['some',\n",
       " 'may',\n",
       " 'call',\n",
       " 'mj',\n",
       " 'an',\n",
       " 'egotist',\n",
       " 'for',\n",
       " 'consenting',\n",
       " 'to',\n",
       " 'the',\n",
       " 'making',\n",
       " 'of',\n",
       " 'this',\n",
       " 'movie',\n",
       " 'but',\n",
       " 'mj',\n",
       " 'and',\n",
       " 'most',\n",
       " 'of',\n",
       " 'his',\n",
       " 'fans',\n",
       " 'would',\n",
       " 'say',\n",
       " 'that',\n",
       " 'he',\n",
       " 'made',\n",
       " 'it',\n",
       " 'for',\n",
       " 'the',\n",
       " 'fans',\n",
       " 'which',\n",
       " 'if',\n",
       " 'true',\n",
       " 'is',\n",
       " 'really',\n",
       " 'nice',\n",
       " 'of',\n",
       " 'him',\n",
       " 'the',\n",
       " 'actual',\n",
       " 'feature',\n",
       " 'film',\n",
       " 'bit',\n",
       " 'when',\n",
       " 'it',\n",
       " 'finally',\n",
       " 'starts',\n",
       " 'is',\n",
       " 'only',\n",
       " 'on',\n",
       " 'for',\n",
       " 'minutes',\n",
       " 'or',\n",
       " 'so',\n",
       " 'excluding',\n",
       " 'the',\n",
       " 'smooth',\n",
       " 'criminal',\n",
       " 'sequence',\n",
       " 'and',\n",
       " 'joe',\n",
       " 'pesci',\n",
       " 'is',\n",
       " 'convincing',\n",
       " 'as',\n",
       " 'a',\n",
       " 'psychopathic',\n",
       " 'all',\n",
       " 'powerful',\n",
       " 'drug',\n",
       " 'lord']"
      ]
     },
     "execution_count": 22,
     "metadata": {},
     "output_type": "execute_result"
    }
   ],
   "source": [
    "# 4번째 문장리스트 확인\n",
    "sentences[4]"
   ]
  },
  {
   "cell_type": "code",
   "execution_count": 15,
   "metadata": {
    "collapsed": false
   },
   "outputs": [
    {
     "name": "stdout",
     "output_type": "stream",
     "text": [
      "Parsing sentences from unlabeled set\n"
     ]
    },
    {
     "name": "stderr",
     "output_type": "stream",
     "text": [
      "D:\\python\\lib\\site-packages\\bs4\\__init__.py:181: UserWarning: No parser was explicitly specified, so I'm using the best available HTML parser for this system (\"lxml\"). This usually isn't a problem, but if you run this code on another system, or in a different virtual environment, it may use a different parser and behave differently.\n",
      "\n",
      "The code that caused this warning is on line 170 of the file D:\\python\\lib\\runpy.py. To get rid of this warning, change code that looks like this:\n",
      "\n",
      " BeautifulSoup([your markup])\n",
      "\n",
      "to this:\n",
      "\n",
      " BeautifulSoup([your markup], \"lxml\")\n",
      "\n",
      "  markup_type=markup_type))\n",
      "D:\\python\\lib\\site-packages\\bs4\\__init__.py:219: UserWarning: \"b'.'\" looks like a filename, not markup. You shouldprobably open this file and pass the filehandle intoBeautiful Soup.\n",
      "  'Beautiful Soup.' % markup)\n",
      "D:\\python\\lib\\site-packages\\bs4\\__init__.py:282: UserWarning: \"http://www.archive.org/details/LovefromaStranger\"\" looks like a URL. Beautiful Soup is not an HTTP client. You should probably use an HTTP client like requests to get the document behind the URL, and feed that document to Beautiful Soup.\n",
      "  ' that document to Beautiful Soup.' % decoded_markup\n",
      "D:\\python\\lib\\site-packages\\bs4\\__init__.py:282: UserWarning: \"http://www.loosechangeguide.com/LooseChangeGuide.html\"\" looks like a URL. Beautiful Soup is not an HTTP client. You should probably use an HTTP client like requests to get the document behind the URL, and feed that document to Beautiful Soup.\n",
      "  ' that document to Beautiful Soup.' % decoded_markup\n",
      "D:\\python\\lib\\site-packages\\bs4\\__init__.py:219: UserWarning: \"b'... ...'\" looks like a filename, not markup. You shouldprobably open this file and pass the filehandle intoBeautiful Soup.\n",
      "  'Beautiful Soup.' % markup)\n",
      "D:\\python\\lib\\site-packages\\bs4\\__init__.py:219: UserWarning: \"b'...'\" looks like a filename, not markup. You shouldprobably open this file and pass the filehandle intoBeautiful Soup.\n",
      "  'Beautiful Soup.' % markup)\n",
      "D:\\python\\lib\\site-packages\\bs4\\__init__.py:219: UserWarning: \"b'....'\" looks like a filename, not markup. You shouldprobably open this file and pass the filehandle intoBeautiful Soup.\n",
      "  'Beautiful Soup.' % markup)\n",
      "D:\\python\\lib\\site-packages\\bs4\\__init__.py:282: UserWarning: \"http://www.msnbc.msn.com/id/4972055/site/newsweek/\"\" looks like a URL. Beautiful Soup is not an HTTP client. You should probably use an HTTP client like requests to get the document behind the URL, and feed that document to Beautiful Soup.\n",
      "  ' that document to Beautiful Soup.' % decoded_markup\n",
      "D:\\python\\lib\\site-packages\\bs4\\__init__.py:219: UserWarning: \"b'..'\" looks like a filename, not markup. You shouldprobably open this file and pass the filehandle intoBeautiful Soup.\n",
      "  'Beautiful Soup.' % markup)\n",
      "D:\\python\\lib\\site-packages\\bs4\\__init__.py:282: UserWarning: \"http://www.youtube.com/watch?v=a0KSqelmgN8\"\" looks like a URL. Beautiful Soup is not an HTTP client. You should probably use an HTTP client like requests to get the document behind the URL, and feed that document to Beautiful Soup.\n",
      "  ' that document to Beautiful Soup.' % decoded_markup\n",
      "D:\\python\\lib\\site-packages\\bs4\\__init__.py:219: UserWarning: \"b'.. .'\" looks like a filename, not markup. You shouldprobably open this file and pass the filehandle intoBeautiful Soup.\n",
      "  'Beautiful Soup.' % markup)\n",
      "D:\\python\\lib\\site-packages\\bs4\\__init__.py:282: UserWarning: \"http://jake-weird.blogspot.com/2007/08/beneath.html\"\" looks like a URL. Beautiful Soup is not an HTTP client. You should probably use an HTTP client like requests to get the document behind the URL, and feed that document to Beautiful Soup.\n",
      "  ' that document to Beautiful Soup.' % decoded_markup\n"
     ]
    }
   ],
   "source": [
    "print (\"Parsing sentences from unlabeled set\")\n",
    "\n",
    "# 라벨없는 훈련셋을 문장리스트로 추가 변환하여 sentence 리스트에 붙임\n",
    "\n",
    "for review in unlabeled_train[\"review\"]:\n",
    "    sentences += review_to_sentences(review, tokenizer)"
   ]
  },
  {
   "cell_type": "code",
   "execution_count": 16,
   "metadata": {
    "collapsed": false
   },
   "outputs": [
    {
     "name": "stdout",
     "output_type": "stream",
     "text": [
      "795538\n",
      "['with', 'all', 'this', 'stuff', 'going', 'down', 'at', 'the', 'moment', 'with', 'mj', 'i', 've', 'started', 'listening', 'to', 'his', 'music', 'watching', 'the', 'odd', 'documentary', 'here', 'and', 'there', 'watched', 'the', 'wiz', 'and', 'watched', 'moonwalker', 'again']\n"
     ]
    }
   ],
   "source": [
    "# 총 문장리스트가 약 850,000개 정도\n",
    "print (len(sentences))\n",
    "print (sentences[0])"
   ]
  },
  {
   "cell_type": "code",
   "execution_count": 17,
   "metadata": {
    "collapsed": false
   },
   "outputs": [
    {
     "name": "stdout",
     "output_type": "stream",
     "text": [
      "['maybe', 'i', 'just', 'want', 'to', 'get', 'a', 'certain', 'insight', 'into', 'this', 'guy', 'who', 'i', 'thought', 'was', 'really', 'cool', 'in', 'the', 'eighties', 'just', 'to', 'maybe', 'make', 'up', 'my', 'mind', 'whether', 'he', 'is', 'guilty', 'or', 'innocent']\n"
     ]
    }
   ],
   "source": [
    "print (sentences[1])"
   ]
  },
  {
   "cell_type": "code",
   "execution_count": 19,
   "metadata": {
    "collapsed": false
   },
   "outputs": [
    {
     "name": "stderr",
     "output_type": "stream",
     "text": [
      "2017-06-23 23:33:39,976 : INFO : collecting all words and their counts\n",
      "2017-06-23 23:33:39,977 : INFO : PROGRESS: at sentence #0, processed 0 words, keeping 0 word types\n",
      "2017-06-23 23:33:40,023 : INFO : PROGRESS: at sentence #10000, processed 225803 words, keeping 17776 word types\n",
      "2017-06-23 23:33:40,066 : INFO : PROGRESS: at sentence #20000, processed 451892 words, keeping 24948 word types\n",
      "2017-06-23 23:33:40,108 : INFO : PROGRESS: at sentence #30000, processed 671315 words, keeping 30034 word types\n",
      "2017-06-23 23:33:40,152 : INFO : PROGRESS: at sentence #40000, processed 897815 words, keeping 34348 word types\n"
     ]
    },
    {
     "name": "stdout",
     "output_type": "stream",
     "text": [
      "Training model...\n"
     ]
    },
    {
     "name": "stderr",
     "output_type": "stream",
     "text": [
      "2017-06-23 23:33:40,199 : INFO : PROGRESS: at sentence #50000, processed 1116963 words, keeping 37761 word types\n",
      "2017-06-23 23:33:40,242 : INFO : PROGRESS: at sentence #60000, processed 1338404 words, keeping 40723 word types\n",
      "2017-06-23 23:33:40,287 : INFO : PROGRESS: at sentence #70000, processed 1561580 words, keeping 43333 word types\n",
      "2017-06-23 23:33:40,333 : INFO : PROGRESS: at sentence #80000, processed 1780887 words, keeping 45714 word types\n",
      "2017-06-23 23:33:40,377 : INFO : PROGRESS: at sentence #90000, processed 2004996 words, keeping 48135 word types\n",
      "2017-06-23 23:33:40,421 : INFO : PROGRESS: at sentence #100000, processed 2226966 words, keeping 50207 word types\n",
      "2017-06-23 23:33:40,464 : INFO : PROGRESS: at sentence #110000, processed 2446580 words, keeping 52081 word types\n",
      "2017-06-23 23:33:40,508 : INFO : PROGRESS: at sentence #120000, processed 2668775 words, keeping 54119 word types\n",
      "2017-06-23 23:33:40,554 : INFO : PROGRESS: at sentence #130000, processed 2894303 words, keeping 55847 word types\n",
      "2017-06-23 23:33:40,597 : INFO : PROGRESS: at sentence #140000, processed 3107005 words, keeping 57346 word types\n",
      "2017-06-23 23:33:40,642 : INFO : PROGRESS: at sentence #150000, processed 3332627 words, keeping 59055 word types\n",
      "2017-06-23 23:33:40,686 : INFO : PROGRESS: at sentence #160000, processed 3555315 words, keeping 60617 word types\n",
      "2017-06-23 23:33:40,729 : INFO : PROGRESS: at sentence #170000, processed 3778655 words, keeping 62077 word types\n",
      "2017-06-23 23:33:40,773 : INFO : PROGRESS: at sentence #180000, processed 3999236 words, keeping 63496 word types\n",
      "2017-06-23 23:33:40,819 : INFO : PROGRESS: at sentence #190000, processed 4224449 words, keeping 64794 word types\n",
      "2017-06-23 23:33:40,865 : INFO : PROGRESS: at sentence #200000, processed 4448603 words, keeping 66087 word types\n",
      "2017-06-23 23:33:40,909 : INFO : PROGRESS: at sentence #210000, processed 4669967 words, keeping 67390 word types\n",
      "2017-06-23 23:33:40,956 : INFO : PROGRESS: at sentence #220000, processed 4894968 words, keeping 68697 word types\n",
      "2017-06-23 23:33:41,000 : INFO : PROGRESS: at sentence #230000, processed 5117545 words, keeping 69958 word types\n",
      "2017-06-23 23:33:41,049 : INFO : PROGRESS: at sentence #240000, processed 5345050 words, keeping 71167 word types\n",
      "2017-06-23 23:33:41,094 : INFO : PROGRESS: at sentence #250000, processed 5559165 words, keeping 72351 word types\n",
      "2017-06-23 23:33:41,141 : INFO : PROGRESS: at sentence #260000, processed 5779146 words, keeping 73478 word types\n",
      "2017-06-23 23:33:41,188 : INFO : PROGRESS: at sentence #270000, processed 6000435 words, keeping 74767 word types\n",
      "2017-06-23 23:33:41,236 : INFO : PROGRESS: at sentence #280000, processed 6226314 words, keeping 76369 word types\n",
      "2017-06-23 23:33:41,283 : INFO : PROGRESS: at sentence #290000, processed 6449474 words, keeping 77839 word types\n",
      "2017-06-23 23:33:41,329 : INFO : PROGRESS: at sentence #300000, processed 6674077 words, keeping 79171 word types\n",
      "2017-06-23 23:33:41,375 : INFO : PROGRESS: at sentence #310000, processed 6899391 words, keeping 80480 word types\n",
      "2017-06-23 23:33:41,421 : INFO : PROGRESS: at sentence #320000, processed 7124278 words, keeping 81808 word types\n",
      "2017-06-23 23:33:41,471 : INFO : PROGRESS: at sentence #330000, processed 7346021 words, keeping 83030 word types\n",
      "2017-06-23 23:33:41,521 : INFO : PROGRESS: at sentence #340000, processed 7575533 words, keeping 84280 word types\n",
      "2017-06-23 23:33:41,570 : INFO : PROGRESS: at sentence #350000, processed 7798803 words, keeping 85425 word types\n",
      "2017-06-23 23:33:41,620 : INFO : PROGRESS: at sentence #360000, processed 8019427 words, keeping 86596 word types\n",
      "2017-06-23 23:33:41,673 : INFO : PROGRESS: at sentence #370000, processed 8246619 words, keeping 87708 word types\n",
      "2017-06-23 23:33:41,717 : INFO : PROGRESS: at sentence #380000, processed 8471766 words, keeping 88878 word types\n",
      "2017-06-23 23:33:41,768 : INFO : PROGRESS: at sentence #390000, processed 8701497 words, keeping 89907 word types\n",
      "2017-06-23 23:33:41,814 : INFO : PROGRESS: at sentence #400000, processed 8924446 words, keeping 90916 word types\n",
      "2017-06-23 23:33:41,862 : INFO : PROGRESS: at sentence #410000, processed 9145796 words, keeping 91880 word types\n",
      "2017-06-23 23:33:41,905 : INFO : PROGRESS: at sentence #420000, processed 9366876 words, keeping 92912 word types\n",
      "2017-06-23 23:33:41,952 : INFO : PROGRESS: at sentence #430000, processed 9594413 words, keeping 93932 word types\n",
      "2017-06-23 23:33:42,002 : INFO : PROGRESS: at sentence #440000, processed 9821166 words, keeping 94906 word types\n",
      "2017-06-23 23:33:42,056 : INFO : PROGRESS: at sentence #450000, processed 10044928 words, keeping 96036 word types\n",
      "2017-06-23 23:33:42,109 : INFO : PROGRESS: at sentence #460000, processed 10277688 words, keeping 97088 word types\n",
      "2017-06-23 23:33:42,164 : INFO : PROGRESS: at sentence #470000, processed 10505613 words, keeping 97933 word types\n",
      "2017-06-23 23:33:42,213 : INFO : PROGRESS: at sentence #480000, processed 10725997 words, keeping 98862 word types\n",
      "2017-06-23 23:33:42,260 : INFO : PROGRESS: at sentence #490000, processed 10952741 words, keeping 99871 word types\n",
      "2017-06-23 23:33:42,307 : INFO : PROGRESS: at sentence #500000, processed 11174397 words, keeping 100765 word types\n",
      "2017-06-23 23:33:42,354 : INFO : PROGRESS: at sentence #510000, processed 11399672 words, keeping 101699 word types\n",
      "2017-06-23 23:33:42,402 : INFO : PROGRESS: at sentence #520000, processed 11623020 words, keeping 102598 word types\n",
      "2017-06-23 23:33:42,448 : INFO : PROGRESS: at sentence #530000, processed 11847418 words, keeping 103400 word types\n",
      "2017-06-23 23:33:42,496 : INFO : PROGRESS: at sentence #540000, processed 12072033 words, keeping 104265 word types\n",
      "2017-06-23 23:33:42,544 : INFO : PROGRESS: at sentence #550000, processed 12297571 words, keeping 105133 word types\n",
      "2017-06-23 23:33:42,589 : INFO : PROGRESS: at sentence #560000, processed 12518861 words, keeping 105997 word types\n",
      "2017-06-23 23:33:42,638 : INFO : PROGRESS: at sentence #570000, processed 12747916 words, keeping 106787 word types\n",
      "2017-06-23 23:33:42,685 : INFO : PROGRESS: at sentence #580000, processed 12969412 words, keeping 107665 word types\n",
      "2017-06-23 23:33:42,731 : INFO : PROGRESS: at sentence #590000, processed 13194937 words, keeping 108501 word types\n",
      "2017-06-23 23:33:42,778 : INFO : PROGRESS: at sentence #600000, processed 13417135 words, keeping 109218 word types\n",
      "2017-06-23 23:33:42,823 : INFO : PROGRESS: at sentence #610000, processed 13638158 words, keeping 110092 word types\n",
      "2017-06-23 23:33:42,872 : INFO : PROGRESS: at sentence #620000, processed 13864483 words, keeping 110837 word types\n",
      "2017-06-23 23:33:42,917 : INFO : PROGRESS: at sentence #630000, processed 14088769 words, keeping 111610 word types\n",
      "2017-06-23 23:33:42,962 : INFO : PROGRESS: at sentence #640000, processed 14309552 words, keeping 112416 word types\n",
      "2017-06-23 23:33:43,009 : INFO : PROGRESS: at sentence #650000, processed 14535308 words, keeping 113196 word types\n",
      "2017-06-23 23:33:43,057 : INFO : PROGRESS: at sentence #660000, processed 14758098 words, keeping 113945 word types\n",
      "2017-06-23 23:33:43,103 : INFO : PROGRESS: at sentence #670000, processed 14981482 words, keeping 114643 word types\n",
      "2017-06-23 23:33:43,149 : INFO : PROGRESS: at sentence #680000, processed 15206314 words, keeping 115354 word types\n",
      "2017-06-23 23:33:43,198 : INFO : PROGRESS: at sentence #690000, processed 15428507 words, keeping 116131 word types\n",
      "2017-06-23 23:33:43,245 : INFO : PROGRESS: at sentence #700000, processed 15657213 words, keeping 116943 word types\n",
      "2017-06-23 23:33:43,294 : INFO : PROGRESS: at sentence #710000, processed 15880202 words, keeping 117596 word types\n",
      "2017-06-23 23:33:43,339 : INFO : PROGRESS: at sentence #720000, processed 16105489 words, keeping 118221 word types\n",
      "2017-06-23 23:33:43,386 : INFO : PROGRESS: at sentence #730000, processed 16331870 words, keeping 118954 word types\n",
      "2017-06-23 23:33:43,435 : INFO : PROGRESS: at sentence #740000, processed 16552903 words, keeping 119668 word types\n",
      "2017-06-23 23:33:43,482 : INFO : PROGRESS: at sentence #750000, processed 16771230 words, keeping 120295 word types\n",
      "2017-06-23 23:33:43,527 : INFO : PROGRESS: at sentence #760000, processed 16990622 words, keeping 120930 word types\n",
      "2017-06-23 23:33:43,575 : INFO : PROGRESS: at sentence #770000, processed 17217759 words, keeping 121703 word types\n",
      "2017-06-23 23:33:43,622 : INFO : PROGRESS: at sentence #780000, processed 17447905 words, keeping 122402 word types\n",
      "2017-06-23 23:33:43,670 : INFO : PROGRESS: at sentence #790000, processed 17674981 words, keeping 123066 word types\n",
      "2017-06-23 23:33:43,697 : INFO : collected 123504 word types from a corpus of 17798082 raw words and 795538 sentences\n",
      "2017-06-23 23:33:43,698 : INFO : Loading a fresh vocabulary\n",
      "2017-06-23 23:33:43,789 : INFO : min_count=40 retains 16490 unique words (13% of original 123504, drops 107014)\n",
      "2017-06-23 23:33:43,790 : INFO : min_count=40 leaves 17238940 word corpus (96% of original 17798082, drops 559142)\n",
      "2017-06-23 23:33:43,835 : INFO : deleting the raw counts dictionary of 123504 items\n",
      "2017-06-23 23:33:43,841 : INFO : sample=0.001 downsamples 48 most-common words\n",
      "2017-06-23 23:33:43,842 : INFO : downsampling leaves estimated 12749658 word corpus (74.0% of prior 17238940)\n",
      "2017-06-23 23:33:43,843 : INFO : estimated required memory for 16490 words and 300 dimensions: 47821000 bytes\n",
      "2017-06-23 23:33:43,907 : INFO : resetting layer weights\n",
      "2017-06-23 23:33:44,458 : INFO : training model with 6 workers on 16490 vocabulary and 300 features, using sg=0 hs=0 sample=0.001 negative=5 window=10\n",
      "2017-06-23 23:33:45,474 : INFO : PROGRESS: at 1.79% examples, 1130564 words/s, in_qsize 11, out_qsize 0\n",
      "2017-06-23 23:33:46,483 : INFO : PROGRESS: at 3.72% examples, 1167740 words/s, in_qsize 11, out_qsize 0\n",
      "2017-06-23 23:33:47,488 : INFO : PROGRESS: at 5.56% examples, 1167618 words/s, in_qsize 11, out_qsize 0\n",
      "2017-06-23 23:33:48,490 : INFO : PROGRESS: at 7.46% examples, 1175280 words/s, in_qsize 11, out_qsize 0\n",
      "2017-06-23 23:33:49,501 : INFO : PROGRESS: at 9.40% examples, 1186515 words/s, in_qsize 11, out_qsize 0\n",
      "2017-06-23 23:33:50,507 : INFO : PROGRESS: at 11.35% examples, 1196021 words/s, in_qsize 10, out_qsize 1\n",
      "2017-06-23 23:33:51,514 : INFO : PROGRESS: at 13.27% examples, 1199695 words/s, in_qsize 12, out_qsize 0\n",
      "2017-06-23 23:33:52,514 : INFO : PROGRESS: at 15.13% examples, 1198213 words/s, in_qsize 10, out_qsize 1\n",
      "2017-06-23 23:33:53,520 : INFO : PROGRESS: at 17.05% examples, 1200268 words/s, in_qsize 10, out_qsize 1\n",
      "2017-06-23 23:33:54,520 : INFO : PROGRESS: at 18.99% examples, 1203899 words/s, in_qsize 10, out_qsize 1\n",
      "2017-06-23 23:33:55,521 : INFO : PROGRESS: at 20.91% examples, 1206162 words/s, in_qsize 10, out_qsize 1\n",
      "2017-06-23 23:33:56,531 : INFO : PROGRESS: at 22.79% examples, 1203641 words/s, in_qsize 10, out_qsize 1\n",
      "2017-06-23 23:33:57,541 : INFO : PROGRESS: at 24.72% examples, 1204199 words/s, in_qsize 12, out_qsize 1\n",
      "2017-06-23 23:33:58,553 : INFO : PROGRESS: at 26.67% examples, 1204778 words/s, in_qsize 11, out_qsize 0\n",
      "2017-06-23 23:33:59,559 : INFO : PROGRESS: at 28.53% examples, 1203661 words/s, in_qsize 10, out_qsize 1\n",
      "2017-06-23 23:34:00,561 : INFO : PROGRESS: at 30.46% examples, 1205584 words/s, in_qsize 11, out_qsize 0\n",
      "2017-06-23 23:34:01,564 : INFO : PROGRESS: at 32.31% examples, 1204223 words/s, in_qsize 10, out_qsize 1\n",
      "2017-06-23 23:34:02,570 : INFO : PROGRESS: at 34.22% examples, 1204947 words/s, in_qsize 10, out_qsize 1\n",
      "2017-06-23 23:34:03,578 : INFO : PROGRESS: at 36.15% examples, 1205761 words/s, in_qsize 10, out_qsize 1\n",
      "2017-06-23 23:34:04,583 : INFO : PROGRESS: at 38.00% examples, 1204505 words/s, in_qsize 10, out_qsize 1\n",
      "2017-06-23 23:34:05,588 : INFO : PROGRESS: at 39.91% examples, 1204802 words/s, in_qsize 12, out_qsize 0\n",
      "2017-06-23 23:34:06,604 : INFO : PROGRESS: at 41.82% examples, 1204386 words/s, in_qsize 10, out_qsize 1\n",
      "2017-06-23 23:34:07,611 : INFO : PROGRESS: at 43.76% examples, 1204910 words/s, in_qsize 10, out_qsize 1\n",
      "2017-06-23 23:34:08,616 : INFO : PROGRESS: at 45.70% examples, 1205604 words/s, in_qsize 10, out_qsize 1\n",
      "2017-06-23 23:34:09,619 : INFO : PROGRESS: at 47.63% examples, 1206180 words/s, in_qsize 12, out_qsize 0\n",
      "2017-06-23 23:34:10,624 : INFO : PROGRESS: at 49.55% examples, 1206832 words/s, in_qsize 11, out_qsize 0\n",
      "2017-06-23 23:34:11,624 : INFO : PROGRESS: at 51.46% examples, 1207605 words/s, in_qsize 11, out_qsize 0\n",
      "2017-06-23 23:34:12,629 : INFO : PROGRESS: at 53.39% examples, 1208470 words/s, in_qsize 11, out_qsize 0\n",
      "2017-06-23 23:34:13,643 : INFO : PROGRESS: at 55.34% examples, 1209131 words/s, in_qsize 12, out_qsize 1\n",
      "2017-06-23 23:34:14,649 : INFO : PROGRESS: at 57.30% examples, 1210029 words/s, in_qsize 11, out_qsize 0\n",
      "2017-06-23 23:34:15,653 : INFO : PROGRESS: at 59.23% examples, 1210524 words/s, in_qsize 10, out_qsize 1\n",
      "2017-06-23 23:34:16,654 : INFO : PROGRESS: at 61.15% examples, 1211320 words/s, in_qsize 11, out_qsize 0\n",
      "2017-06-23 23:34:17,656 : INFO : PROGRESS: at 63.08% examples, 1211351 words/s, in_qsize 10, out_qsize 1\n",
      "2017-06-23 23:34:18,663 : INFO : PROGRESS: at 65.06% examples, 1212289 words/s, in_qsize 10, out_qsize 1\n",
      "2017-06-23 23:34:19,668 : INFO : PROGRESS: at 67.03% examples, 1213181 words/s, in_qsize 11, out_qsize 0\n",
      "2017-06-23 23:34:20,676 : INFO : PROGRESS: at 68.85% examples, 1211591 words/s, in_qsize 12, out_qsize 2\n",
      "2017-06-23 23:34:21,681 : INFO : PROGRESS: at 70.74% examples, 1211337 words/s, in_qsize 11, out_qsize 0\n",
      "2017-06-23 23:34:22,685 : INFO : PROGRESS: at 72.62% examples, 1211161 words/s, in_qsize 11, out_qsize 0\n",
      "2017-06-23 23:34:23,691 : INFO : PROGRESS: at 74.54% examples, 1211445 words/s, in_qsize 11, out_qsize 0\n",
      "2017-06-23 23:34:24,692 : INFO : PROGRESS: at 76.48% examples, 1211866 words/s, in_qsize 11, out_qsize 0\n",
      "2017-06-23 23:34:25,695 : INFO : PROGRESS: at 78.38% examples, 1212058 words/s, in_qsize 10, out_qsize 1\n",
      "2017-06-23 23:34:26,702 : INFO : PROGRESS: at 80.32% examples, 1212438 words/s, in_qsize 11, out_qsize 0\n",
      "2017-06-23 23:34:27,708 : INFO : PROGRESS: at 82.25% examples, 1212500 words/s, in_qsize 10, out_qsize 1\n",
      "2017-06-23 23:34:28,714 : INFO : PROGRESS: at 84.24% examples, 1213251 words/s, in_qsize 11, out_qsize 0\n",
      "2017-06-23 23:34:29,717 : INFO : PROGRESS: at 86.16% examples, 1213343 words/s, in_qsize 10, out_qsize 1\n",
      "2017-06-23 23:34:30,718 : INFO : PROGRESS: at 88.08% examples, 1213521 words/s, in_qsize 10, out_qsize 1\n",
      "2017-06-23 23:34:31,722 : INFO : PROGRESS: at 89.99% examples, 1213632 words/s, in_qsize 11, out_qsize 0\n",
      "2017-06-23 23:34:32,730 : INFO : PROGRESS: at 91.89% examples, 1213592 words/s, in_qsize 12, out_qsize 1\n",
      "2017-06-23 23:34:33,731 : INFO : PROGRESS: at 93.83% examples, 1214059 words/s, in_qsize 11, out_qsize 0\n",
      "2017-06-23 23:34:34,734 : INFO : PROGRESS: at 95.77% examples, 1214463 words/s, in_qsize 11, out_qsize 0\n",
      "2017-06-23 23:34:35,739 : INFO : PROGRESS: at 97.66% examples, 1214207 words/s, in_qsize 12, out_qsize 2\n",
      "2017-06-23 23:34:36,746 : INFO : PROGRESS: at 99.60% examples, 1214488 words/s, in_qsize 10, out_qsize 1\n",
      "2017-06-23 23:34:36,927 : INFO : worker thread finished; awaiting finish of 5 more threads\n",
      "2017-06-23 23:34:36,928 : INFO : worker thread finished; awaiting finish of 4 more threads\n",
      "2017-06-23 23:34:36,937 : INFO : worker thread finished; awaiting finish of 3 more threads\n",
      "2017-06-23 23:34:36,943 : INFO : worker thread finished; awaiting finish of 2 more threads\n",
      "2017-06-23 23:34:36,947 : INFO : worker thread finished; awaiting finish of 1 more threads\n",
      "2017-06-23 23:34:36,950 : INFO : worker thread finished; awaiting finish of 0 more threads\n",
      "2017-06-23 23:34:36,951 : INFO : training on 88990410 raw words (63749523 effective words) took 52.5s, 1214657 effective words/s\n",
      "2017-06-23 23:34:36,953 : INFO : precomputing L2-norms of word weight vectors\n",
      "2017-06-23 23:34:37,039 : INFO : saving Word2Vec object under 300features_40minwords_10context, separately None\n",
      "2017-06-23 23:34:37,040 : INFO : not storing attribute syn0norm\n",
      "2017-06-23 23:34:37,041 : INFO : not storing attribute cum_table\n",
      "2017-06-23 23:34:37,653 : INFO : saved 300features_40minwords_10context\n"
     ]
    }
   ],
   "source": [
    "# https://radimrehurek.com/gensim/models/word2vec.html\n",
    "# Import the built-in logging module and configure it so that Word2Vec \n",
    "# creates nice output messages\n",
    "import logging\n",
    "logging.basicConfig(format='%(asctime)s : %(levelname)s : %(message)s',\\\n",
    "    level=logging.INFO)\n",
    "\n",
    "# Word2Vec 파라미터 설정\n",
    "num_features = 300    # 워드벡터 차원수 설정\n",
    "min_word_count = 40   # 최소 단어수\n",
    "num_workers = 6       # 병렬처리시 쓰레드 수\n",
    "context = 10          # CBOW 모델시 input인 주변단어개수(window) 설정\n",
    "downsampling = 1e-3   # 이 비율보다 더 높은 빈도의 단어들 중 랜덤하게 downsample\n",
    "\n",
    "# Initialize and train the model (this will take some time)\n",
    "from gensim.models import word2vec\n",
    "print (\"Training model...\")\n",
    "\n",
    "# CBOW 모델\n",
    "model = word2vec.Word2Vec(sentences, workers=num_workers, \\\n",
    "            size=num_features, min_count = min_word_count, \\\n",
    "            window = context, sample = downsampling)\n",
    "\n",
    "# 더 이상의 훈련을 하지 않을 것이라면,\n",
    "# L2 정규화벡터로 변환을 시켜 메모리를 절약 수 있다. 변환후에는 훈련을 할수 없으니 주의.\n",
    "model.init_sims(replace=True)\n",
    "\n",
    "# 모델명을 정한 후, 워드벡터를 저장하여 나중에 Word2Vec.load()를 사용해, 다시 훈련하지 않아도 로드하여 바로 사용할 수 있다.\n",
    "model_name = \"300features_40minwords_10context\"\n",
    "model.save(model_name)"
   ]
  },
  {
   "cell_type": "code",
   "execution_count": 20,
   "metadata": {
    "collapsed": false
   },
   "outputs": [
    {
     "data": {
      "text/plain": [
       "'kitchen'"
      ]
     },
     "execution_count": 20,
     "metadata": {},
     "output_type": "execute_result"
    }
   ],
   "source": [
    "model.doesnt_match(\"man woman child kitchen\".split())"
   ]
  },
  {
   "cell_type": "code",
   "execution_count": 21,
   "metadata": {
    "collapsed": false
   },
   "outputs": [
    {
     "data": {
      "text/plain": [
       "[('woman', 0.6157041788101196),\n",
       " ('lady', 0.5912197828292847),\n",
       " ('monk', 0.5590580701828003),\n",
       " ('lad', 0.5582822561264038),\n",
       " ('men', 0.5162534713745117),\n",
       " ('guy', 0.5106900930404663),\n",
       " ('millionaire', 0.5048726797103882),\n",
       " ('farmer', 0.5016376972198486),\n",
       " ('businessman', 0.500268816947937),\n",
       " ('person', 0.4969886541366577)]"
      ]
     },
     "execution_count": 21,
     "metadata": {},
     "output_type": "execute_result"
    }
   ],
   "source": [
    "model.most_similar(\"man\")"
   ]
  },
  {
   "cell_type": "code",
   "execution_count": 28,
   "metadata": {
    "collapsed": false
   },
   "outputs": [
    {
     "data": {
      "text/plain": [
       "array([[ 0.63299465, -0.14457166,  0.32823831, ...,  0.36432058,\n",
       "         0.2555986 ,  0.03019164],\n",
       "       [ 0.81615639, -0.15518148,  0.43223628, ...,  0.33658126,\n",
       "         0.3930881 ,  0.05845106],\n",
       "       [ 0.91632974, -0.1225011 ,  0.47338527, ...,  0.44294769,\n",
       "         0.42992458,  0.12480053],\n",
       "       ..., \n",
       "       [ 0.87911153, -0.19573618,  0.23994713, ...,  0.18786989,\n",
       "         0.48512921, -0.25085855],\n",
       "       [ 0.98206949, -0.22142909,  0.53364044, ...,  0.33518466,\n",
       "         0.4603622 , -0.22779191],\n",
       "       [ 0.67038852, -0.13886328,  0.45360562, ...,  0.35519555,\n",
       "         0.26664361,  0.0631773 ]], dtype=float32)"
      ]
     },
     "execution_count": 28,
     "metadata": {},
     "output_type": "execute_result"
    }
   ],
   "source": [
    "model.syn1neg[1:10]"
   ]
  },
  {
   "cell_type": "code",
   "execution_count": null,
   "metadata": {
    "collapsed": true
   },
   "outputs": [],
   "source": []
  }
 ],
 "metadata": {
  "kernelspec": {
   "display_name": "Python 3",
   "language": "python",
   "name": "python3"
  },
  "language_info": {
   "codemirror_mode": {
    "name": "ipython",
    "version": 3
   },
   "file_extension": ".py",
   "mimetype": "text/x-python",
   "name": "python",
   "nbconvert_exporter": "python",
   "pygments_lexer": "ipython3",
   "version": "3.5.0"
  }
 },
 "nbformat": 4,
 "nbformat_minor": 2
}
